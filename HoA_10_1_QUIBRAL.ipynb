{
  "nbformat": 4,
  "nbformat_minor": 0,
  "metadata": {
    "colab": {
      "provenance": [],
      "authorship_tag": "ABX9TyNpNfqZD/MH36PrF3OOq49i",
      "include_colab_link": true
    },
    "kernelspec": {
      "name": "python3",
      "display_name": "Python 3"
    },
    "language_info": {
      "name": "python"
    }
  },
  "cells": [
    {
      "cell_type": "markdown",
      "metadata": {
        "id": "view-in-github",
        "colab_type": "text"
      },
      "source": [
        "<a href=\"https://colab.research.google.com/github/Juuuuls/CPE311/blob/main/HoA_10_1_QUIBRAL.ipynb\" target=\"_parent\"><img src=\"https://colab.research.google.com/assets/colab-badge.svg\" alt=\"Open In Colab\"/></a>"
      ]
    },
    {
      "cell_type": "markdown",
      "source": [
        "---\n",
        "<center>\n",
        "\n",
        "**Technological Institute of the Philippines**<br>\n",
        "Computer Engineering Department<br>\n",
        "Quezon city Campus</center>\n",
        "\n",
        "---\n",
        "\n",
        "<center> Hands-on Activity 10.1 Data Analysis using Python <center>\n",
        "\n",
        "---\n",
        "<center>\n",
        "\n",
        "| Course: CPE 311 | Program: BSCpE |\n",
        "|--- | --- |\n",
        "| **Course Title**: Computational Thinking with Python | **Date Performed:** April 4 , 2024 |\n",
        "| **Section:** BSCPE22S3 | **Date Submitted:** April 4 , 2024 |\n",
        "| **Student Name**: Juliann Vincent B. Quibral | **Instructor's Name:** Engr. Roman Richard |\n",
        "| **Partner Name:** Jhillian M. Cabos |\n",
        "\n",
        "</center>"
      ],
      "metadata": {
        "id": "tm09wEv9AQRa"
      }
    },
    {
      "cell_type": "markdown",
      "source": [
        "**Import Modules**"
      ],
      "metadata": {
        "id": "NRRo65uB35_F"
      }
    },
    {
      "cell_type": "code",
      "execution_count": 1,
      "metadata": {
        "id": "tKGR9DN5uu6E"
      },
      "outputs": [],
      "source": [
        "import pandas as pd\n",
        "import seaborn as sns\n",
        "import numpy as np\n",
        "import matplotlib.pyplot as plt"
      ]
    },
    {
      "cell_type": "markdown",
      "source": [
        "**Load the dataset into pandas dataframe**"
      ],
      "metadata": {
        "id": "Xu9cBfxQ4AHA"
      }
    },
    {
      "cell_type": "code",
      "source": [
        "df = pd.read_csv('cStick.csv')\n",
        "print(\"Original Dataframe:\\n\", df)"
      ],
      "metadata": {
        "colab": {
          "base_uri": "https://localhost:8080/"
        },
        "id": "jiJV5ux-4CDR",
        "outputId": "16008702-5b9f-422a-ca57-870e25c2ca06"
      },
      "execution_count": 2,
      "outputs": [
        {
          "output_type": "stream",
          "name": "stdout",
          "text": [
            "Original Dataframe:\n",
            "       Distance  Pressure      HRV  Sugar level    SpO2  Accelerometer  \\\n",
            "0       25.540       1.0  101.396       61.080  87.770            1.0   \n",
            "1        2.595       2.0  110.190       20.207  65.190            1.0   \n",
            "2       68.067       0.0   87.412       79.345  99.345            0.0   \n",
            "3       13.090       1.0   92.266       36.180  81.545            1.0   \n",
            "4       69.430       0.0   89.480       80.000  99.990            0.0   \n",
            "...        ...       ...      ...          ...     ...            ...   \n",
            "2034     5.655       2.0  116.310      162.242  71.310            1.0   \n",
            "2035     9.660       2.0  124.320      177.995  79.320            1.0   \n",
            "2036    15.220       1.0   93.828       40.440  82.610            1.0   \n",
            "2037     9.120       2.0  123.240      175.871  78.240            1.0   \n",
            "2038    62.441       0.0   78.876       76.435  96.435            0.0   \n",
            "\n",
            "      Decision   \n",
            "0             1  \n",
            "1             2  \n",
            "2             0  \n",
            "3             1  \n",
            "4             0  \n",
            "...         ...  \n",
            "2034          2  \n",
            "2035          2  \n",
            "2036          1  \n",
            "2037          2  \n",
            "2038          0  \n",
            "\n",
            "[2039 rows x 7 columns]\n"
          ]
        }
      ]
    },
    {
      "cell_type": "code",
      "source": [
        "print(df.info())\n",
        "print(df.describe())"
      ],
      "metadata": {
        "colab": {
          "base_uri": "https://localhost:8080/"
        },
        "id": "3cJR0Xfl4H_G",
        "outputId": "9859d619-e18d-4b43-84df-1717fae76462"
      },
      "execution_count": 3,
      "outputs": [
        {
          "output_type": "stream",
          "name": "stdout",
          "text": [
            "<class 'pandas.core.frame.DataFrame'>\n",
            "RangeIndex: 2039 entries, 0 to 2038\n",
            "Data columns (total 7 columns):\n",
            " #   Column         Non-Null Count  Dtype  \n",
            "---  ------         --------------  -----  \n",
            " 0   Distance       2039 non-null   float64\n",
            " 1   Pressure       2039 non-null   float64\n",
            " 2   HRV            2039 non-null   float64\n",
            " 3   Sugar level    2039 non-null   float64\n",
            " 4   SpO2           2039 non-null   float64\n",
            " 5   Accelerometer  2039 non-null   float64\n",
            " 6   Decision       2039 non-null   int64  \n",
            "dtypes: float64(6), int64(1)\n",
            "memory usage: 111.6 KB\n",
            "None\n",
            "          Distance     Pressure          HRV  Sugar level         SpO2  \\\n",
            "count  2039.000000  2039.000000  2039.000000  2039.000000  2039.000000   \n",
            "mean     28.694527     0.988720    95.657002    72.909243    83.563649   \n",
            "std      23.773644     0.815918    17.576499    46.940110    11.111592   \n",
            "min       0.000000     0.000000    60.000000    10.000000    60.000000   \n",
            "25%       7.642500     0.000000    82.418000    40.230000    75.285000   \n",
            "50%      20.560000     1.000000    97.238000    69.960000    85.280000   \n",
            "75%      55.205500     2.000000   109.695000    77.612500    92.692500   \n",
            "max      69.981000     2.000000   124.980000   179.293000    99.990000   \n",
            "\n",
            "       Accelerometer    Decision   \n",
            "count    2039.000000  2039.000000  \n",
            "mean        0.661599     0.988720  \n",
            "std         0.473282     0.815918  \n",
            "min         0.000000     0.000000  \n",
            "25%         0.000000     0.000000  \n",
            "50%         1.000000     1.000000  \n",
            "75%         1.000000     2.000000  \n",
            "max         1.000000     2.000000  \n"
          ]
        }
      ]
    },
    {
      "cell_type": "markdown",
      "source": [
        "# **Data Cleaning**"
      ],
      "metadata": {
        "id": "nhgdMMK44wTR"
      }
    },
    {
      "cell_type": "markdown",
      "source": [
        "(**Data Cleaning**) *Check for missing Values*"
      ],
      "metadata": {
        "id": "lDDvRGmG6j5m"
      }
    },
    {
      "cell_type": "markdown",
      "source": [
        "This step involves examining the dataframe to identify any missing values in each column. It helps in understanding the completeness of the dataset."
      ],
      "metadata": {
        "id": "1g_Dlfk6_uhB"
      }
    },
    {
      "cell_type": "code",
      "source": [
        "missing_values = df.isnull().sum()\n",
        "print(\"Missing Values:\\n\", missing_values)"
      ],
      "metadata": {
        "colab": {
          "base_uri": "https://localhost:8080/"
        },
        "id": "YPhACzdk41gT",
        "outputId": "57a88f29-c67f-47b2-aa5c-725b52565499"
      },
      "execution_count": 4,
      "outputs": [
        {
          "output_type": "stream",
          "name": "stdout",
          "text": [
            "Missing Values:\n",
            " Distance         0\n",
            "Pressure         0\n",
            "HRV              0\n",
            "Sugar level      0\n",
            "SpO2             0\n",
            "Accelerometer    0\n",
            "Decision         0\n",
            "dtype: int64\n"
          ]
        }
      ]
    },
    {
      "cell_type": "code",
      "source": [],
      "metadata": {
        "id": "03U6bJ3s_xlI"
      },
      "execution_count": 4,
      "outputs": []
    },
    {
      "cell_type": "markdown",
      "source": [
        "(**Data Cleaning**) *Check for missing Values*"
      ],
      "metadata": {
        "id": "xPnnw_uq6zib"
      }
    },
    {
      "cell_type": "markdown",
      "source": [
        " If missing values are found, they can be filled using various techniques. In this example, missing values are filled with the mean value of each column, ensuring data completeness"
      ],
      "metadata": {
        "id": "P4Ejr1AI_xOk"
      }
    },
    {
      "cell_type": "code",
      "source": [
        "df.fillna(df.mean(), inplace=True)\n",
        "print(\"Dataframe after filling missing values with mean:\\n\", df)"
      ],
      "metadata": {
        "colab": {
          "base_uri": "https://localhost:8080/"
        },
        "id": "tjC_eJng43zH",
        "outputId": "a984ecd2-fa0a-4578-d352-61cd6f3172f8"
      },
      "execution_count": 5,
      "outputs": [
        {
          "output_type": "stream",
          "name": "stdout",
          "text": [
            "Dataframe after filling missing values with mean:\n",
            "       Distance  Pressure      HRV  Sugar level    SpO2  Accelerometer  \\\n",
            "0       25.540       1.0  101.396       61.080  87.770            1.0   \n",
            "1        2.595       2.0  110.190       20.207  65.190            1.0   \n",
            "2       68.067       0.0   87.412       79.345  99.345            0.0   \n",
            "3       13.090       1.0   92.266       36.180  81.545            1.0   \n",
            "4       69.430       0.0   89.480       80.000  99.990            0.0   \n",
            "...        ...       ...      ...          ...     ...            ...   \n",
            "2034     5.655       2.0  116.310      162.242  71.310            1.0   \n",
            "2035     9.660       2.0  124.320      177.995  79.320            1.0   \n",
            "2036    15.220       1.0   93.828       40.440  82.610            1.0   \n",
            "2037     9.120       2.0  123.240      175.871  78.240            1.0   \n",
            "2038    62.441       0.0   78.876       76.435  96.435            0.0   \n",
            "\n",
            "      Decision   \n",
            "0             1  \n",
            "1             2  \n",
            "2             0  \n",
            "3             1  \n",
            "4             0  \n",
            "...         ...  \n",
            "2034          2  \n",
            "2035          2  \n",
            "2036          1  \n",
            "2037          2  \n",
            "2038          0  \n",
            "\n",
            "[2039 rows x 7 columns]\n"
          ]
        }
      ]
    },
    {
      "cell_type": "markdown",
      "source": [
        "(**Data Cleaning**) *Check for Duplicate Rows*"
      ],
      "metadata": {
        "id": "Y4HgszhK60RQ"
      }
    },
    {
      "cell_type": "markdown",
      "source": [
        "Duplicate rows may skew analysis results, so it's important to identify and handle them. This step checks for duplicate rows in the dataframe."
      ],
      "metadata": {
        "id": "6ORHAbCl_zj4"
      }
    },
    {
      "cell_type": "code",
      "source": [
        "duplicate_rows = df[df.duplicated()]\n",
        "print(\"Duplicate Rows:\\n\", duplicate_rows)"
      ],
      "metadata": {
        "colab": {
          "base_uri": "https://localhost:8080/"
        },
        "id": "O8f8qZYV449G",
        "outputId": "2dda0a26-4564-4f52-f765-5633e77f2a09"
      },
      "execution_count": 6,
      "outputs": [
        {
          "output_type": "stream",
          "name": "stdout",
          "text": [
            "Duplicate Rows:\n",
            " Empty DataFrame\n",
            "Columns: [Distance, Pressure, HRV, Sugar level, SpO2, Accelerometer, Decision ]\n",
            "Index: []\n"
          ]
        }
      ]
    },
    {
      "cell_type": "markdown",
      "source": [
        "(**Data Cleaning**) *Drop Duplicate Rows*"
      ],
      "metadata": {
        "id": "XnYs2y4C61Ph"
      }
    },
    {
      "cell_type": "markdown",
      "source": [
        " Duplicate rows, if found, are removed from the dataframe. This ensures each observation is unique and prevents duplication biases in analysis."
      ],
      "metadata": {
        "id": "vN27PV1W_1gM"
      }
    },
    {
      "cell_type": "code",
      "source": [
        "df.drop_duplicates(inplace=True)\n",
        "print(\"Dataframe after dropping duplicate rows:\\n\", df)"
      ],
      "metadata": {
        "colab": {
          "base_uri": "https://localhost:8080/"
        },
        "id": "qPMi1wqr47DA",
        "outputId": "f233dbe9-9951-4313-a990-424f0896e855"
      },
      "execution_count": 7,
      "outputs": [
        {
          "output_type": "stream",
          "name": "stdout",
          "text": [
            "Dataframe after dropping duplicate rows:\n",
            "       Distance  Pressure      HRV  Sugar level    SpO2  Accelerometer  \\\n",
            "0       25.540       1.0  101.396       61.080  87.770            1.0   \n",
            "1        2.595       2.0  110.190       20.207  65.190            1.0   \n",
            "2       68.067       0.0   87.412       79.345  99.345            0.0   \n",
            "3       13.090       1.0   92.266       36.180  81.545            1.0   \n",
            "4       69.430       0.0   89.480       80.000  99.990            0.0   \n",
            "...        ...       ...      ...          ...     ...            ...   \n",
            "2034     5.655       2.0  116.310      162.242  71.310            1.0   \n",
            "2035     9.660       2.0  124.320      177.995  79.320            1.0   \n",
            "2036    15.220       1.0   93.828       40.440  82.610            1.0   \n",
            "2037     9.120       2.0  123.240      175.871  78.240            1.0   \n",
            "2038    62.441       0.0   78.876       76.435  96.435            0.0   \n",
            "\n",
            "      Decision   \n",
            "0             1  \n",
            "1             2  \n",
            "2             0  \n",
            "3             1  \n",
            "4             0  \n",
            "...         ...  \n",
            "2034          2  \n",
            "2035          2  \n",
            "2036          1  \n",
            "2037          2  \n",
            "2038          0  \n",
            "\n",
            "[2039 rows x 7 columns]\n"
          ]
        }
      ]
    },
    {
      "cell_type": "markdown",
      "source": [
        "(**Data Cleaning**) *Check for Outliers*"
      ],
      "metadata": {
        "id": "l0GIcXYa615f"
      }
    },
    {
      "cell_type": "markdown",
      "source": [
        "Outliers are data points that significantly differ from other observations in the dataset. This step identifies outliers using z-scores, which measure how many standard deviations a data point is from the mean."
      ],
      "metadata": {
        "id": "9sR4F-q6_3R0"
      }
    },
    {
      "cell_type": "code",
      "source": [
        "from scipy.stats import zscore\n",
        "z_scores = zscore(df.select_dtypes(include=np.number))\n",
        "abs_z_scores = np.abs(z_scores)\n",
        "outliers = (abs_z_scores > 3).all(axis=1)\n",
        "print(\"Outliers:\\n\", df[outliers])"
      ],
      "metadata": {
        "colab": {
          "base_uri": "https://localhost:8080/"
        },
        "id": "oKhcB8Ox49V_",
        "outputId": "e936dcd1-daff-419c-ed8b-8adc10cbb269"
      },
      "execution_count": 8,
      "outputs": [
        {
          "output_type": "stream",
          "name": "stdout",
          "text": [
            "Outliers:\n",
            " Empty DataFrame\n",
            "Columns: [Distance, Pressure, HRV, Sugar level, SpO2, Accelerometer, Decision ]\n",
            "Index: []\n"
          ]
        }
      ]
    },
    {
      "cell_type": "markdown",
      "source": [
        "(**Data Cleaning**) *View Data Types*"
      ],
      "metadata": {
        "id": "SreXCceL62jb"
      }
    },
    {
      "cell_type": "markdown",
      "source": [
        "It's crucial to ensure that the data types of each column are appropriate for analysis. This step checks the data types of columns in the dataframe."
      ],
      "metadata": {
        "id": "JvCfw_Em_5rq"
      }
    },
    {
      "cell_type": "code",
      "source": [
        "print(\"Data Types:\\n\", df.dtypes)"
      ],
      "metadata": {
        "colab": {
          "base_uri": "https://localhost:8080/"
        },
        "id": "SoMytw1h4_9h",
        "outputId": "0967f614-5393-4165-b7d5-fc4973766d44"
      },
      "execution_count": 9,
      "outputs": [
        {
          "output_type": "stream",
          "name": "stdout",
          "text": [
            "Data Types:\n",
            " Distance         float64\n",
            "Pressure         float64\n",
            "HRV              float64\n",
            "Sugar level      float64\n",
            "SpO2             float64\n",
            "Accelerometer    float64\n",
            "Decision           int64\n",
            "dtype: object\n"
          ]
        }
      ]
    },
    {
      "cell_type": "markdown",
      "source": [
        "(**After Data Cleaning**) *Check for Data Values*"
      ],
      "metadata": {
        "id": "WFrbO7XU63NQ"
      }
    },
    {
      "cell_type": "markdown",
      "source": [
        "Descriptive statistics provide summaries of the dataset's main characteristics. This step uses the describe() function to compute basic statistics like mean, median, and quartiles for numerical columns."
      ],
      "metadata": {
        "id": "C72E7tzv_8TO"
      }
    },
    {
      "cell_type": "code",
      "source": [
        "print(\"\\nDf information after preprocessing:\\n\", df.info())\n",
        "print(\"\\nDf statistics after preprocessing:\\n\", df.describe())"
      ],
      "metadata": {
        "colab": {
          "base_uri": "https://localhost:8080/"
        },
        "id": "bkHpTIHj5D5s",
        "outputId": "167d7b98-cfac-4ed9-d444-00141b15c21e"
      },
      "execution_count": 10,
      "outputs": [
        {
          "output_type": "stream",
          "name": "stdout",
          "text": [
            "<class 'pandas.core.frame.DataFrame'>\n",
            "Int64Index: 2039 entries, 0 to 2038\n",
            "Data columns (total 7 columns):\n",
            " #   Column         Non-Null Count  Dtype  \n",
            "---  ------         --------------  -----  \n",
            " 0   Distance       2039 non-null   float64\n",
            " 1   Pressure       2039 non-null   float64\n",
            " 2   HRV            2039 non-null   float64\n",
            " 3   Sugar level    2039 non-null   float64\n",
            " 4   SpO2           2039 non-null   float64\n",
            " 5   Accelerometer  2039 non-null   float64\n",
            " 6   Decision       2039 non-null   int64  \n",
            "dtypes: float64(6), int64(1)\n",
            "memory usage: 127.4 KB\n",
            "\n",
            "Df information after preprocessing:\n",
            " None\n",
            "\n",
            "Df statistics after preprocessing:\n",
            "           Distance     Pressure          HRV  Sugar level         SpO2  \\\n",
            "count  2039.000000  2039.000000  2039.000000  2039.000000  2039.000000   \n",
            "mean     28.694527     0.988720    95.657002    72.909243    83.563649   \n",
            "std      23.773644     0.815918    17.576499    46.940110    11.111592   \n",
            "min       0.000000     0.000000    60.000000    10.000000    60.000000   \n",
            "25%       7.642500     0.000000    82.418000    40.230000    75.285000   \n",
            "50%      20.560000     1.000000    97.238000    69.960000    85.280000   \n",
            "75%      55.205500     2.000000   109.695000    77.612500    92.692500   \n",
            "max      69.981000     2.000000   124.980000   179.293000    99.990000   \n",
            "\n",
            "       Accelerometer    Decision   \n",
            "count    2039.000000  2039.000000  \n",
            "mean        0.661599     0.988720  \n",
            "std         0.473282     0.815918  \n",
            "min         0.000000     0.000000  \n",
            "25%         0.000000     0.000000  \n",
            "50%         1.000000     1.000000  \n",
            "75%         1.000000     2.000000  \n",
            "max         1.000000     2.000000  \n"
          ]
        }
      ]
    },
    {
      "cell_type": "code",
      "source": [
        "print(\"Descriptive statistics of the dataframe:\\n\", df.describe())"
      ],
      "metadata": {
        "colab": {
          "base_uri": "https://localhost:8080/"
        },
        "id": "-oQZz6ZO5Jcv",
        "outputId": "7d0906da-a6a6-4213-c803-196f89aeda65"
      },
      "execution_count": 11,
      "outputs": [
        {
          "output_type": "stream",
          "name": "stdout",
          "text": [
            "Descriptive statistics of the dataframe:\n",
            "           Distance     Pressure          HRV  Sugar level         SpO2  \\\n",
            "count  2039.000000  2039.000000  2039.000000  2039.000000  2039.000000   \n",
            "mean     28.694527     0.988720    95.657002    72.909243    83.563649   \n",
            "std      23.773644     0.815918    17.576499    46.940110    11.111592   \n",
            "min       0.000000     0.000000    60.000000    10.000000    60.000000   \n",
            "25%       7.642500     0.000000    82.418000    40.230000    75.285000   \n",
            "50%      20.560000     1.000000    97.238000    69.960000    85.280000   \n",
            "75%      55.205500     2.000000   109.695000    77.612500    92.692500   \n",
            "max      69.981000     2.000000   124.980000   179.293000    99.990000   \n",
            "\n",
            "       Accelerometer    Decision   \n",
            "count    2039.000000  2039.000000  \n",
            "mean        0.661599     0.988720  \n",
            "std         0.473282     0.815918  \n",
            "min         0.000000     0.000000  \n",
            "25%         0.000000     0.000000  \n",
            "50%         1.000000     1.000000  \n",
            "75%         1.000000     2.000000  \n",
            "max         1.000000     2.000000  \n"
          ]
        }
      ]
    },
    {
      "cell_type": "markdown",
      "source": [
        "# **Perform Correlation Analysis**"
      ],
      "metadata": {
        "id": "YXdw5HvH8ESw"
      }
    },
    {
      "cell_type": "markdown",
      "source": [
        "Correlation analysis measures the strength and direction of the linear relationship between two variables. It helps in understanding how variables are related to each other in the dataset."
      ],
      "metadata": {
        "id": "-CX4u2jP_-vR"
      }
    },
    {
      "cell_type": "code",
      "source": [
        "correlation_matrix = df.corr()"
      ],
      "metadata": {
        "id": "uXKKXWOS5a3Z"
      },
      "execution_count": 12,
      "outputs": []
    },
    {
      "cell_type": "markdown",
      "source": [
        "**Visualize the correlation matrix using heatmap**"
      ],
      "metadata": {
        "id": "Ua2lqbRs_QF9"
      }
    },
    {
      "cell_type": "markdown",
      "source": [
        "Visualizing the correlation matrix using a heatmap provides a clear and concise representation of the relationships between variables. It helps in identifying patterns and dependencies within the data."
      ],
      "metadata": {
        "id": "cLkuyoGmAAUY"
      }
    },
    {
      "cell_type": "code",
      "source": [
        "plt.figure(figsize=(10, 8))\n",
        "sns.heatmap(correlation_matrix, annot=True, cmap='coolwarm', fmt=\".2f\", linewidths=0.5)\n",
        "plt.title('Correlation Matrix')\n",
        "plt.show()"
      ],
      "metadata": {
        "colab": {
          "base_uri": "https://localhost:8080/",
          "height": 699
        },
        "id": "Rkd6ZE9p5dCw",
        "outputId": "9732861b-a926-481a-aed7-37327bbc4dd7"
      },
      "execution_count": 13,
      "outputs": [
        {
          "output_type": "display_data",
          "data": {
            "text/plain": [
              "<Figure size 1000x800 with 2 Axes>"
            ],
            "image/png": "[encoded data removed]"
          },
          "metadata": {}
        }
      ]
    },
    {
      "cell_type": "markdown",
      "source": [
        "# **Conclusion**"
      ],
      "metadata": {
        "id": "imo1tE9kAL8S"
      }
    },
    {
      "cell_type": "markdown",
      "source": [
        "We handled missing values and duplicates to guarantee data integrity after carefully reviewing the dataset. We cleaned up the dataset for analysis by removing duplicates and used column means to fill in any missing values. Next, in order to make sure our study represents significant patterns, we used z-scores to identify outliers. The dependability of our dataset was further reinforced by checking the data kinds. While correlation analysis highlighted links between variables, descriptive statistics offered insight into numerical properties. Using a heatmap to visualize relationships improved our comprehension of data trends. This method, which is similar to priming a canvas before painting, established the groundwork for perceptive investigation and interpretation, which are essential for both academic and professional pursuits.\n",
        "\n",
        "Furthermore, regarding the dataset from which we extracted the correlations, improving fall prediction and detection methods for senior citizens depends critically on the identification of correlations within the dataset. It makes it possible to optimize the models and algorithms that are employed in products like cStick, increasing their efficacy and accuracy. Understanding correlations also makes it easier to customize solutions to meet each person's particular needs, which eventually advances the area of elder care technology."
      ],
      "metadata": {
        "id": "a9NajiOYANpP"
      }
    },
    {
      "cell_type": "markdown",
      "source": [
        "**Link for dataset:** https://www.kaggle.com/datasets/laavanya/elderly-fall-prediction-and-detection"
      ],
      "metadata": {
        "id": "0YRun_CEC6yu"
      }
    }
  ]
}